{
 "cells": [
  {
   "cell_type": "code",
   "execution_count": 56,
   "metadata": {},
   "outputs": [],
   "source": [
    "import cv2\n",
    "import numpy as np\n",
    "import os\n",
    "from matplotlib import pyplot as plt\n",
    "import time\n",
    "import mediapipe as mp"
   ]
  },
  {
   "attachments": {},
   "cell_type": "markdown",
   "metadata": {},
   "source": [
    "2. Keypoints using MP Holistic"
   ]
  },
  {
   "cell_type": "code",
   "execution_count": 57,
   "metadata": {},
   "outputs": [],
   "source": [
    "mp_holistic_model = mp.solutions.holistic\n",
    "mp_drawing = mp.solutions.drawing_utils "
   ]
  },
  {
   "cell_type": "code",
   "execution_count": 58,
   "metadata": {},
   "outputs": [],
   "source": [
    "def mediapipe_detection(frame , model):\n",
    "    frame  = cv2.cvtColor(frame , cv2.COLOR_BGR2RGB) # model expect RGB \n",
    "    frame.flags.writeable = False # save some memory while processing\n",
    "    results = model.process(frame) # making prediction\n",
    "    frame.flags.writeable = True\n",
    "    frame = cv2.cvtColor(frame , cv2.COLOR_RGB2BGR) # converting back to BGR\n",
    "    return frame , results\n"
   ]
  },
  {
   "cell_type": "code",
   "execution_count": 1,
   "metadata": {},
   "outputs": [],
   "source": [
    "def draw_landmarks(frame, results):\n",
    "    # Draw face connections\n",
    "    mp_drawing.draw_landmarks(frame, results.face_landmarks, mp_holistic_model.FACEMESH_TESSELATION)\n",
    "    # Draw pose connections\n",
    "    mp_drawing.draw_landmarks(frame, results.pose_landmarks, mp_holistic_model.POSE_CONNECTIONS) \n",
    "    # Draw left hand connections\n",
    "    mp_drawing.draw_landmarks(frame, results.left_hand_landmarks, mp_holistic_model.HAND_CONNECTIONS)\n",
    "    # Draw right hand connections\n",
    "    mp_drawing.draw_landmarks(frame, results.right_hand_landmarks, mp_holistic_model.HAND_CONNECTIONS)\n"
   ]
  },
  {
   "cell_type": "code",
   "execution_count": 2,
   "metadata": {},
   "outputs": [],
   "source": [
    "def draw_styled_landmarsks(frame, results):\n",
    "    # Draw face connections\n",
    "    mp_drawing.draw_landmarks(frame, results.face_landmarks, mp_holistic_model.FACEMESH_TESSELATION, \n",
    "                            #joint color , thickness , circle radius\n",
    "                            mp_drawing.DrawingSpec(color=(80,110,10), thickness=1, circle_radius=1),\n",
    "                            #lines color , thinkness\n",
    "                            mp_drawing.DrawingSpec(color=(80,256,121), thickness=1, circle_radius=1)\n",
    "                            ) \n",
    "    # Draw pose connections\n",
    "    mp_drawing.draw_landmarks(frame, results.pose_landmarks, mp_holistic_model.POSE_CONNECTIONS,\n",
    "                            mp_drawing.DrawingSpec(color=(80,110,10), thickness=2, circle_radius=4), \n",
    "                            mp_drawing.DrawingSpec(color=(80,256,121), thickness=2)\n",
    "                            )  \n",
    "    # Draw left hand connections\n",
    "    mp_drawing.draw_landmarks(frame, results.left_hand_landmarks, mp_holistic_model.HAND_CONNECTIONS, \n",
    "                            mp_drawing.DrawingSpec(color=(80,110,10), thickness=2, circle_radius=4), \n",
    "                            mp_drawing.DrawingSpec(color=(80,256,121), thickness=2)\n",
    "                            )   \n",
    "    # Draw right hand connections  \n",
    "    mp_drawing.draw_landmarks(frame, results.right_hand_landmarks, mp_holistic_model.HAND_CONNECTIONS, \n",
    "                            mp_drawing.DrawingSpec(color=(80,110,10), thickness=2, circle_radius=4), \n",
    "                            mp_drawing.DrawingSpec(color=(80,256,121), thickness=2)\n",
    "                            )  "
   ]
  },
  {
   "attachments": {},
   "cell_type": "markdown",
   "metadata": {},
   "source": [
    "Here is the explaination of what the following block of code is doing\n",
    "-   we capture the frame using webcamp\n",
    "-   we pass it to the holistic model to get keypoint\n",
    "-   we pass tha image and the key points to function that draw these keypoint on the image"
   ]
  },
  {
   "cell_type": "code",
   "execution_count": 61,
   "metadata": {},
   "outputs": [],
   "source": [
    "cap = cv2.VideoCapture(0)\n",
    "#so here we are setting mpmodel\n",
    "with mp_holistic_model.Holistic(min_detection_confidence=0.5 , min_tracking_confidence=0.5) as holistic :\n",
    "    while cap.isOpened():\n",
    "        ret , frame = cap.read()\n",
    "        \n",
    "        # making detection\n",
    "        frame , results = mediapipe_detection(frame , model=holistic)\n",
    "        # drawing landmarks\n",
    "        draw_styled_landmarsks(frame , results)\n",
    "        #showing to the screen\n",
    "        cv2.imshow('openCV read' , frame)\n",
    "\n",
    "        if cv2.waitKey(10) & 0xff == ord('q'):\n",
    "            break\n",
    "    cap.release()\n",
    "    cv2.destroyAllWindows()"
   ]
  },
  {
   "attachments": {},
   "cell_type": "markdown",
   "metadata": {},
   "source": [
    "3. Extract Keypoint Values"
   ]
  },
  {
   "cell_type": "code",
   "execution_count": 62,
   "metadata": {},
   "outputs": [],
   "source": [
    "def extract_keypoints(results):\n",
    "    pose = np.array([[res.x, res.y, res.z, res.visibility] for res in results.pose_landmarks.landmark]).flatten() if results.pose_landmarks else np.zeros(33*4)\n",
    "    face = np.array([[res.x, res.y, res.z] for res in results.face_landmarks.landmark]).flatten() if results.face_landmarks else np.zeros(468*3)\n",
    "    lh = np.array([[res.x, res.y, res.z] for res in results.left_hand_landmarks.landmark]).flatten() if results.left_hand_landmarks else np.zeros(21*3)\n",
    "    rh = np.array([[res.x, res.y, res.z] for res in results.right_hand_landmarks.landmark]).flatten() if results.right_hand_landmarks else np.zeros(21*3)\n",
    "    return np.concatenate([pose, face, lh, rh])"
   ]
  },
  {
   "cell_type": "code",
   "execution_count": 63,
   "metadata": {},
   "outputs": [],
   "source": [
    "# extracting the landmarks in one big array \n",
    "results_test = extract_keypoints(results=results)\n",
    "# the number of landmarks we get for each frame\n",
    "print(results_test.shape)"
   ]
  }
 ],
 "metadata": {
  "kernelspec": {
   "display_name": "graduation_project",
   "language": "python",
   "name": "graduation_project"
  },
  "language_info": {
   "codemirror_mode": {
    "name": "ipython",
    "version": 3
   },
   "file_extension": ".py",
   "mimetype": "text/x-python",
   "name": "python",
   "nbconvert_exporter": "python",
   "pygments_lexer": "ipython3",
   "version": "3.10.8"
  },
  "orig_nbformat": 4
 },
 "nbformat": 4,
 "nbformat_minor": 2
}
